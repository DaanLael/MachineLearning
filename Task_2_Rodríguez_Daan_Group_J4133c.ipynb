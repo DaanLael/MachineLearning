{
 "cells": [
  {
   "cell_type": "markdown",
   "id": "eef01638",
   "metadata": {},
   "source": [
    "# TASK 2"
   ]
  },
  {
   "cell_type": "markdown",
   "id": "18eb4ee9",
   "metadata": {},
   "source": [
    "<a name='000'></a>\n",
    "\n",
    "<h2>Content</h2>\n",
    "\n",
    "<ul>\n",
    "    <ol type='1'>\n",
    "    <li><a href='#001'>Libraries and Open file</a></li>\n",
    "    <li><a href='#002'>Preprocessing</a></li>\n",
    "    <li><a href='#003'>Top 10 most important words from each chapter</a></li>\n",
    "    <li><a href='#004'>Top 10 most used verbs in sentences with Alice</a></li> \n",
    "    <li><a href='#005'>Conclusions</a></li>\n",
    "    </ol>\n",
    "</ul>"
   ]
  },
  {
   "cell_type": "markdown",
   "id": "8321d87d",
   "metadata": {},
   "source": [
    "**\"Alice's Adventures in Wonderland\"** is a novel written by **Lewis Carroll** in **1865**. The story follows **Alice**, a young girl who falls down a rabbit hole into a **surreal world** filled with **peculiar characters**. Throughout her **adventure**, she interacts with the **White Rabbit**, **the Mad Hatter**, **the Queen of Hearts**, and **the Cheshire Cat**. The narrative is **full of wordplay** and **illogical situations**. The work has been adapted into movies and plays, becoming a classic in children's and fantasy literature."
   ]
  },
  {
   "cell_type": "markdown",
   "id": "6e1d78ad",
   "metadata": {},
   "source": [
    "Link: https://www.gutenberg.org/files/11/11-0.txt"
   ]
  },
  {
   "cell_type": "markdown",
   "id": "37b81ae0",
   "metadata": {},
   "source": [
    "**Natural Language Processing (NLP)** is a **field** of **artificial intelligence**that focuses on **enabling machines to understand and generate human language**. It is **used** in **chatbots**, **machine translation**, **sentiment analysis**, **text summarization**, **information extraction** and **text classification**, **among other applications**. NLP is **based on text processing techniques** and **machine learning algorithms** and has experienced significant advances in recent years, which has made it relevant in various sectors."
   ]
  },
  {
   "cell_type": "markdown",
   "id": "2c184a65",
   "metadata": {},
   "source": [
    "In this task we will make **use of the nlp topics** we were **taught during the class** with the book **\"Alice in Wonderland\"**."
   ]
  },
  {
   "cell_type": "markdown",
   "id": "1b0313a4",
   "metadata": {},
   "source": [
    "<a name='001'></a>\n",
    "\n",
    "<h2>Libraries and Open file</h2>"
   ]
  },
  {
   "cell_type": "markdown",
   "id": "a91a9480",
   "metadata": {},
   "source": [
    "We open the necessary libraries and open the txt file."
   ]
  },
  {
   "cell_type": "code",
   "execution_count": 1,
   "id": "c3cb22fd",
   "metadata": {},
   "outputs": [],
   "source": [
    "import nltk\n",
    "import re\n",
    "from sklearn.feature_extraction.text import TfidfVectorizer\n",
    "import pandas as pd\n",
    "from collections import Counter"
   ]
  },
  {
   "cell_type": "code",
   "execution_count": 2,
   "id": "609b8c68",
   "metadata": {},
   "outputs": [],
   "source": [
    "with open('C://Users//Daan_//Downloads//Alice.txt', 'r', encoding='utf8') as file:\n",
    "    text = file.read()"
   ]
  },
  {
   "cell_type": "code",
   "execution_count": 3,
   "id": "2ea209ca",
   "metadata": {},
   "outputs": [],
   "source": [
    "new_text = text.split('CHAPTER XII.   Alice’s Evidence')[1]\n",
    "new_text = new_text.split('THE END')[0]\n",
    "new_text_1 = new_text.split('CHAPTER ')[1:]"
   ]
  },
  {
   "cell_type": "markdown",
   "id": "4224bc82",
   "metadata": {},
   "source": [
    "We separate the text into chapters."
   ]
  },
  {
   "cell_type": "code",
   "execution_count": 4,
   "id": "3f56fd2d",
   "metadata": {},
   "outputs": [
    {
     "data": {
      "text/html": [
       "<div>\n",
       "<style scoped>\n",
       "    .dataframe tbody tr th:only-of-type {\n",
       "        vertical-align: middle;\n",
       "    }\n",
       "\n",
       "    .dataframe tbody tr th {\n",
       "        vertical-align: top;\n",
       "    }\n",
       "\n",
       "    .dataframe thead th {\n",
       "        text-align: right;\n",
       "    }\n",
       "</style>\n",
       "<table border=\"1\" class=\"dataframe\">\n",
       "  <thead>\n",
       "    <tr style=\"text-align: right;\">\n",
       "      <th></th>\n",
       "      <th>Chapter</th>\n",
       "      <th>Text</th>\n",
       "    </tr>\n",
       "  </thead>\n",
       "  <tbody>\n",
       "    <tr>\n",
       "      <th>0</th>\n",
       "      <td>CHAPTER 1</td>\n",
       "      <td>I.\\nDown the Rabbit-Hole\\n\\n\\nAlice was beginn...</td>\n",
       "    </tr>\n",
       "    <tr>\n",
       "      <th>1</th>\n",
       "      <td>CHAPTER 2</td>\n",
       "      <td>II.\\nThe Pool of Tears\\n\\n\\n“Curiouser and cur...</td>\n",
       "    </tr>\n",
       "    <tr>\n",
       "      <th>2</th>\n",
       "      <td>CHAPTER 3</td>\n",
       "      <td>III.\\nA Caucus-Race and a Long Tale\\n\\n\\nThey ...</td>\n",
       "    </tr>\n",
       "    <tr>\n",
       "      <th>3</th>\n",
       "      <td>CHAPTER 4</td>\n",
       "      <td>IV.\\nThe Rabbit Sends in a Little Bill\\n\\n\\nIt...</td>\n",
       "    </tr>\n",
       "    <tr>\n",
       "      <th>4</th>\n",
       "      <td>CHAPTER 5</td>\n",
       "      <td>V.\\nAdvice from a Caterpillar\\n\\n\\nThe Caterpi...</td>\n",
       "    </tr>\n",
       "    <tr>\n",
       "      <th>5</th>\n",
       "      <td>CHAPTER 6</td>\n",
       "      <td>VI.\\nPig and Pepper\\n\\n\\nFor a minute or two s...</td>\n",
       "    </tr>\n",
       "    <tr>\n",
       "      <th>6</th>\n",
       "      <td>CHAPTER 7</td>\n",
       "      <td>VII.\\nA Mad Tea-Party\\n\\n\\nThere was a table s...</td>\n",
       "    </tr>\n",
       "    <tr>\n",
       "      <th>7</th>\n",
       "      <td>CHAPTER 8</td>\n",
       "      <td>VIII.\\nThe Queen’s Croquet-Ground\\n\\n\\nA large...</td>\n",
       "    </tr>\n",
       "    <tr>\n",
       "      <th>8</th>\n",
       "      <td>CHAPTER 9</td>\n",
       "      <td>IX.\\nThe Mock Turtle’s Story\\n\\n\\n“You can’t t...</td>\n",
       "    </tr>\n",
       "    <tr>\n",
       "      <th>9</th>\n",
       "      <td>CHAPTER 10</td>\n",
       "      <td>X.\\nThe Lobster Quadrille\\n\\n\\nThe Mock Turtle...</td>\n",
       "    </tr>\n",
       "    <tr>\n",
       "      <th>10</th>\n",
       "      <td>CHAPTER 11</td>\n",
       "      <td>XI.\\nWho Stole the Tarts?\\n\\n\\nThe King and Qu...</td>\n",
       "    </tr>\n",
       "    <tr>\n",
       "      <th>11</th>\n",
       "      <td>CHAPTER 12</td>\n",
       "      <td>XII.\\nAlice’s Evidence\\n\\n\\n“Here!” cried Alic...</td>\n",
       "    </tr>\n",
       "  </tbody>\n",
       "</table>\n",
       "</div>"
      ],
      "text/plain": [
       "       Chapter                                               Text\n",
       "0    CHAPTER 1  I.\\nDown the Rabbit-Hole\\n\\n\\nAlice was beginn...\n",
       "1    CHAPTER 2  II.\\nThe Pool of Tears\\n\\n\\n“Curiouser and cur...\n",
       "2    CHAPTER 3  III.\\nA Caucus-Race and a Long Tale\\n\\n\\nThey ...\n",
       "3    CHAPTER 4  IV.\\nThe Rabbit Sends in a Little Bill\\n\\n\\nIt...\n",
       "4    CHAPTER 5  V.\\nAdvice from a Caterpillar\\n\\n\\nThe Caterpi...\n",
       "5    CHAPTER 6  VI.\\nPig and Pepper\\n\\n\\nFor a minute or two s...\n",
       "6    CHAPTER 7  VII.\\nA Mad Tea-Party\\n\\n\\nThere was a table s...\n",
       "7    CHAPTER 8  VIII.\\nThe Queen’s Croquet-Ground\\n\\n\\nA large...\n",
       "8    CHAPTER 9  IX.\\nThe Mock Turtle’s Story\\n\\n\\n“You can’t t...\n",
       "9   CHAPTER 10  X.\\nThe Lobster Quadrille\\n\\n\\nThe Mock Turtle...\n",
       "10  CHAPTER 11  XI.\\nWho Stole the Tarts?\\n\\n\\nThe King and Qu...\n",
       "11  CHAPTER 12  XII.\\nAlice’s Evidence\\n\\n\\n“Here!” cried Alic..."
      ]
     },
     "execution_count": 4,
     "metadata": {},
     "output_type": "execute_result"
    }
   ],
   "source": [
    "df = pd.DataFrame()\n",
    "\n",
    "for i in range(12):\n",
    "    df.loc[i, 'Chapter'] = 'CHAPTER {}'.format(i+1)\n",
    "    df.loc[i, 'Text'] = new_text_1[i]\n",
    "\n",
    "df"
   ]
  },
  {
   "cell_type": "markdown",
   "id": "2004e375",
   "metadata": {},
   "source": [
    "<a name='002'></a>\n",
    "\n",
    "<h2>Preprocessing</h2>"
   ]
  },
  {
   "cell_type": "markdown",
   "id": "1b8872b0",
   "metadata": {},
   "source": [
    "We perform preprocessing of the text, including conversion to lowercase, removal of empty words, numbers / non-alphabetic characters and lemmatization."
   ]
  },
  {
   "cell_type": "code",
   "execution_count": 5,
   "id": "2743e395",
   "metadata": {},
   "outputs": [],
   "source": [
    "def preprocessing(text):\n",
    "    \n",
    "    stoplist = set(nltk.corpus.stopwords.words('english'))\n",
    "    text = text.lower()\n",
    "    text = re.sub('[^a-zA-Z ]+', ' ', text)\n",
    "    text = re.sub(' +', ' ', text)\n",
    "    tokens = nltk.word_tokenize(text)   \n",
    "    palabras = [token for token in tokens if token not in stoplist and token != 'alice']\n",
    "    wnlemmatizer = nltk.stem.wordnet.WordNetLemmatizer()\n",
    "    lemmatize= [wnlemmatizer.lemmatize(palabra) for palabra in palabras]\n",
    "    \n",
    "    return ' '.join(lemmatize)"
   ]
  },
  {
   "cell_type": "code",
   "execution_count": 6,
   "id": "f8fe914c",
   "metadata": {},
   "outputs": [
    {
     "data": {
      "text/html": [
       "<div>\n",
       "<style scoped>\n",
       "    .dataframe tbody tr th:only-of-type {\n",
       "        vertical-align: middle;\n",
       "    }\n",
       "\n",
       "    .dataframe tbody tr th {\n",
       "        vertical-align: top;\n",
       "    }\n",
       "\n",
       "    .dataframe thead th {\n",
       "        text-align: right;\n",
       "    }\n",
       "</style>\n",
       "<table border=\"1\" class=\"dataframe\">\n",
       "  <thead>\n",
       "    <tr style=\"text-align: right;\">\n",
       "      <th></th>\n",
       "      <th>Chapter</th>\n",
       "      <th>Text</th>\n",
       "      <th>Preprocessed Text</th>\n",
       "    </tr>\n",
       "  </thead>\n",
       "  <tbody>\n",
       "    <tr>\n",
       "      <th>0</th>\n",
       "      <td>CHAPTER 1</td>\n",
       "      <td>I.\\nDown the Rabbit-Hole\\n\\n\\nAlice was beginn...</td>\n",
       "      <td>rabbit hole beginning get tired sitting sister...</td>\n",
       "    </tr>\n",
       "    <tr>\n",
       "      <th>1</th>\n",
       "      <td>CHAPTER 2</td>\n",
       "      <td>II.\\nThe Pool of Tears\\n\\n\\n“Curiouser and cur...</td>\n",
       "      <td>ii pool tear curiouser curiouser cried much su...</td>\n",
       "    </tr>\n",
       "    <tr>\n",
       "      <th>2</th>\n",
       "      <td>CHAPTER 3</td>\n",
       "      <td>III.\\nA Caucus-Race and a Long Tale\\n\\n\\nThey ...</td>\n",
       "      <td>iii caucus race long tale indeed queer looking...</td>\n",
       "    </tr>\n",
       "    <tr>\n",
       "      <th>3</th>\n",
       "      <td>CHAPTER 4</td>\n",
       "      <td>IV.\\nThe Rabbit Sends in a Little Bill\\n\\n\\nIt...</td>\n",
       "      <td>iv rabbit sends little bill white rabbit trott...</td>\n",
       "    </tr>\n",
       "    <tr>\n",
       "      <th>4</th>\n",
       "      <td>CHAPTER 5</td>\n",
       "      <td>V.\\nAdvice from a Caterpillar\\n\\n\\nThe Caterpi...</td>\n",
       "      <td>v advice caterpillar caterpillar looked time s...</td>\n",
       "    </tr>\n",
       "    <tr>\n",
       "      <th>5</th>\n",
       "      <td>CHAPTER 6</td>\n",
       "      <td>VI.\\nPig and Pepper\\n\\n\\nFor a minute or two s...</td>\n",
       "      <td>vi pig pepper minute two stood looking house w...</td>\n",
       "    </tr>\n",
       "    <tr>\n",
       "      <th>6</th>\n",
       "      <td>CHAPTER 7</td>\n",
       "      <td>VII.\\nA Mad Tea-Party\\n\\n\\nThere was a table s...</td>\n",
       "      <td>vii mad tea party table set tree front house m...</td>\n",
       "    </tr>\n",
       "    <tr>\n",
       "      <th>7</th>\n",
       "      <td>CHAPTER 8</td>\n",
       "      <td>VIII.\\nThe Queen’s Croquet-Ground\\n\\n\\nA large...</td>\n",
       "      <td>viii queen croquet ground large rose tree stoo...</td>\n",
       "    </tr>\n",
       "    <tr>\n",
       "      <th>8</th>\n",
       "      <td>CHAPTER 9</td>\n",
       "      <td>IX.\\nThe Mock Turtle’s Story\\n\\n\\n“You can’t t...</td>\n",
       "      <td>ix mock turtle story think glad see dear old t...</td>\n",
       "    </tr>\n",
       "    <tr>\n",
       "      <th>9</th>\n",
       "      <td>CHAPTER 10</td>\n",
       "      <td>X.\\nThe Lobster Quadrille\\n\\n\\nThe Mock Turtle...</td>\n",
       "      <td>x lobster quadrille mock turtle sighed deeply ...</td>\n",
       "    </tr>\n",
       "    <tr>\n",
       "      <th>10</th>\n",
       "      <td>CHAPTER 11</td>\n",
       "      <td>XI.\\nWho Stole the Tarts?\\n\\n\\nThe King and Qu...</td>\n",
       "      <td>xi stole tart king queen heart seated throne a...</td>\n",
       "    </tr>\n",
       "    <tr>\n",
       "      <th>11</th>\n",
       "      <td>CHAPTER 12</td>\n",
       "      <td>XII.\\nAlice’s Evidence\\n\\n\\n“Here!” cried Alic...</td>\n",
       "      <td>xii evidence cried quite forgetting flurry mom...</td>\n",
       "    </tr>\n",
       "  </tbody>\n",
       "</table>\n",
       "</div>"
      ],
      "text/plain": [
       "       Chapter                                               Text  \\\n",
       "0    CHAPTER 1  I.\\nDown the Rabbit-Hole\\n\\n\\nAlice was beginn...   \n",
       "1    CHAPTER 2  II.\\nThe Pool of Tears\\n\\n\\n“Curiouser and cur...   \n",
       "2    CHAPTER 3  III.\\nA Caucus-Race and a Long Tale\\n\\n\\nThey ...   \n",
       "3    CHAPTER 4  IV.\\nThe Rabbit Sends in a Little Bill\\n\\n\\nIt...   \n",
       "4    CHAPTER 5  V.\\nAdvice from a Caterpillar\\n\\n\\nThe Caterpi...   \n",
       "5    CHAPTER 6  VI.\\nPig and Pepper\\n\\n\\nFor a minute or two s...   \n",
       "6    CHAPTER 7  VII.\\nA Mad Tea-Party\\n\\n\\nThere was a table s...   \n",
       "7    CHAPTER 8  VIII.\\nThe Queen’s Croquet-Ground\\n\\n\\nA large...   \n",
       "8    CHAPTER 9  IX.\\nThe Mock Turtle’s Story\\n\\n\\n“You can’t t...   \n",
       "9   CHAPTER 10  X.\\nThe Lobster Quadrille\\n\\n\\nThe Mock Turtle...   \n",
       "10  CHAPTER 11  XI.\\nWho Stole the Tarts?\\n\\n\\nThe King and Qu...   \n",
       "11  CHAPTER 12  XII.\\nAlice’s Evidence\\n\\n\\n“Here!” cried Alic...   \n",
       "\n",
       "                                    Preprocessed Text  \n",
       "0   rabbit hole beginning get tired sitting sister...  \n",
       "1   ii pool tear curiouser curiouser cried much su...  \n",
       "2   iii caucus race long tale indeed queer looking...  \n",
       "3   iv rabbit sends little bill white rabbit trott...  \n",
       "4   v advice caterpillar caterpillar looked time s...  \n",
       "5   vi pig pepper minute two stood looking house w...  \n",
       "6   vii mad tea party table set tree front house m...  \n",
       "7   viii queen croquet ground large rose tree stoo...  \n",
       "8   ix mock turtle story think glad see dear old t...  \n",
       "9   x lobster quadrille mock turtle sighed deeply ...  \n",
       "10  xi stole tart king queen heart seated throne a...  \n",
       "11  xii evidence cried quite forgetting flurry mom...  "
      ]
     },
     "execution_count": 6,
     "metadata": {},
     "output_type": "execute_result"
    }
   ],
   "source": [
    "for i in range(len(df)):\n",
    "    df.loc[i, 'Preprocessed Text'] = preprocessing(df.loc[i, 'Text'])\n",
    "    \n",
    "df"
   ]
  },
  {
   "cell_type": "markdown",
   "id": "53282cf9",
   "metadata": {},
   "source": [
    "<a name='003'></a>\n",
    "\n",
    "<h2>Top 10 most important words from each chapter</h2>"
   ]
  },
  {
   "cell_type": "markdown",
   "id": "ca7d0291",
   "metadata": {},
   "source": [
    "We use **TfidfVectorizer** to **extract** text **features**."
   ]
  },
  {
   "cell_type": "code",
   "execution_count": 7,
   "id": "22c09783",
   "metadata": {},
   "outputs": [],
   "source": [
    "def extraction(text):\n",
    "    \n",
    "    vector = TfidfVectorizer().fit(text)\n",
    "    df2 = pd.DataFrame(vector.transform(text).toarray(), columns=vector.get_feature_names_out())\n",
    "    \n",
    "    return df2"
   ]
  },
  {
   "cell_type": "code",
   "execution_count": 8,
   "id": "39bc7d3f",
   "metadata": {},
   "outputs": [],
   "source": [
    "tk3=extraction(df['Preprocessed Text'])"
   ]
  },
  {
   "cell_type": "markdown",
   "id": "a3d065e2",
   "metadata": {},
   "source": [
    "Classification of the features to find the 10 most important words of each chapter."
   ]
  },
  {
   "cell_type": "code",
   "execution_count": 9,
   "id": "bf9586bd",
   "metadata": {},
   "outputs": [
    {
     "name": "stdout",
     "output_type": "stream",
     "text": [
      "\n",
      "10 Most Important Words of \"Chapter 1\"\n",
      "1. little\n",
      "2. bat\n",
      "3. rabbit\n",
      "4. door\n",
      "5. key\n",
      "6. way\n",
      "7. eat\n",
      "8. like\n",
      "9. think\n",
      "10. either\n",
      "\n",
      "10 Most Important Words of \"Chapter 2\"\n",
      "1. mouse\n",
      "2. pool\n",
      "3. little\n",
      "4. oh\n",
      "5. swam\n",
      "6. cat\n",
      "7. dear\n",
      "8. said\n",
      "9. foot\n",
      "10. mabel\n",
      "\n",
      "10 Most Important Words of \"Chapter 3\"\n",
      "1. said\n",
      "2. mouse\n",
      "3. dodo\n",
      "4. race\n",
      "5. prize\n",
      "6. lory\n",
      "7. dry\n",
      "8. thimble\n",
      "9. know\n",
      "10. bird\n",
      "\n",
      "10 Most Important Words of \"Chapter 4\"\n",
      "1. bill\n",
      "2. rabbit\n",
      "3. little\n",
      "4. window\n",
      "5. puppy\n",
      "6. glove\n",
      "7. one\n",
      "8. chimney\n",
      "9. bottle\n",
      "10. fan\n",
      "\n",
      "10 Most Important Words of \"Chapter 5\"\n",
      "1. caterpillar\n",
      "2. said\n",
      "3. pigeon\n",
      "4. serpent\n",
      "5. egg\n",
      "6. youth\n",
      "7. size\n",
      "8. father\n",
      "9. little\n",
      "10. well\n",
      "\n",
      "10 Most Important Words of \"Chapter 6\"\n",
      "1. said\n",
      "2. footman\n",
      "3. cat\n",
      "4. baby\n",
      "5. mad\n",
      "6. duchess\n",
      "7. wow\n",
      "8. like\n",
      "9. pig\n",
      "10. cook\n",
      "\n",
      "10 Most Important Words of \"Chapter 7\"\n",
      "1. hatter\n",
      "2. dormouse\n",
      "3. said\n",
      "4. march\n",
      "5. hare\n",
      "6. tea\n",
      "7. twinkle\n",
      "8. time\n",
      "9. well\n",
      "10. treacle\n",
      "\n",
      "10 Most Important Words of \"Chapter 8\"\n",
      "1. queen\n",
      "2. said\n",
      "3. hedgehog\n",
      "4. king\n",
      "5. gardener\n",
      "6. soldier\n",
      "7. cat\n",
      "8. rose\n",
      "9. five\n",
      "10. executioner\n",
      "\n",
      "10 Most Important Words of \"Chapter 9\"\n",
      "1. turtle\n",
      "2. said\n",
      "3. mock\n",
      "4. gryphon\n",
      "5. duchess\n",
      "6. moral\n",
      "7. queen\n",
      "8. went\n",
      "9. school\n",
      "10. never\n",
      "\n",
      "10 Most Important Words of \"Chapter 10\"\n",
      "1. turtle\n",
      "2. mock\n",
      "3. gryphon\n",
      "4. said\n",
      "5. lobster\n",
      "6. dance\n",
      "7. soup\n",
      "8. join\n",
      "9. beautiful\n",
      "10. whiting\n",
      "\n",
      "10 Most Important Words of \"Chapter 11\"\n",
      "1. king\n",
      "2. hatter\n",
      "3. said\n",
      "4. court\n",
      "5. dormouse\n",
      "6. witness\n",
      "7. jury\n",
      "8. queen\n",
      "9. officer\n",
      "10. juror\n",
      "\n",
      "10 Most Important Words of \"Chapter 12\"\n",
      "1. said\n",
      "2. king\n",
      "3. jury\n",
      "4. queen\n",
      "5. sister\n",
      "6. important\n",
      "7. dream\n",
      "8. slate\n",
      "9. would\n",
      "10. rabbit\n"
     ]
    }
   ],
   "source": [
    "for Chapter in range(len(tk3)):\n",
    "    top = tk3.loc[Chapter, :].sort_values(ascending=False).head(10)\n",
    "    print()\n",
    "    print('10 Most Important Words of \"Chapter {}\"'.format(Chapter+1))\n",
    "    for i, datos in enumerate(top.index):\n",
    "        print('{}. {}'.format(i+1, datos))"
   ]
  },
  {
   "cell_type": "markdown",
   "id": "fd4b1407",
   "metadata": {},
   "source": [
    "I would name each chapter as follows:\n",
    "\n",
    "**Chapter 1**: ***\"A Little Rabbit's Key to Wonderland\"***\n",
    "\n",
    "**Chapter 2:** ***\"Mouse Swam in the Little Pool with a Cat\"***\n",
    "\n",
    "**Chapter 3:** ***\"The Dodo Said, 'Let's Race for a Prize'\"***\n",
    "\n",
    "**Chapter 4:** ***\"Bill the Rabbit's Little Window Adventure\"***\n",
    "\n",
    "**Chapter 5:** ***\"Caterpillar Said, 'Pigeon, Serpent, Egg!'\"***\n",
    "\n",
    "**Chapter 6:** ***\"The Footman's Mad Adventure with a Pig\"***\n",
    "\n",
    "**Chapter 7:** ***\"Hatter, Dormouse, and the Twinkling Tea Time\"***\n",
    "\n",
    "**Chapter 8:** ***\"The Queen's Hedgehog, King, and Rose Garden\"***\n",
    "\n",
    "**Chapter 9:** ***\"The Mock Turtle's Moral School\"***\n",
    "\n",
    "**Chapter 10:** ***\"The Mock Turtle and the Lobster's Dance\"***\n",
    "\n",
    "**Chapter 11:** ***\"King and Hatter's Courtroom Drama\"***\n",
    "\n",
    "**Chapter 12:** ***\"King, Queen, and the Dream of Wonderland\"***\n"
   ]
  },
  {
   "cell_type": "markdown",
   "id": "6b9b08cf",
   "metadata": {},
   "source": [
    "<a name='004'></a>\n",
    "\n",
    "<h2>Top 10 most used verbs in sentences with Alice</h2>"
   ]
  },
  {
   "cell_type": "markdown",
   "id": "c02f0154",
   "metadata": {},
   "source": [
    "We divide the text into sentences containing the word **\"Alice\"**."
   ]
  },
  {
   "cell_type": "code",
   "execution_count": 10,
   "id": "4346d9ad",
   "metadata": {},
   "outputs": [],
   "source": [
    "oraciones = re.split('[.?!]', new_text)\n",
    "oraciones_alice = [' '.join(oracion for oracion in oraciones if 'Alice' in oracion)]"
   ]
  },
  {
   "cell_type": "markdown",
   "id": "178bba64",
   "metadata": {},
   "source": [
    "We do again a preprocessing of the text adding some things to solve the problem."
   ]
  },
  {
   "cell_type": "code",
   "execution_count": 11,
   "id": "d68b65f3",
   "metadata": {},
   "outputs": [],
   "source": [
    "def preprocessing_2(text):\n",
    "    \n",
    "    stoplist = set(nltk.corpus.stopwords.words('english'))\n",
    "    text = text.lower()\n",
    "    text = re.sub('[^a-zA-Z ]+', ' ', text)\n",
    "    text = re.sub(' +', ' ', text)\n",
    "    tokens = nltk.word_tokenize(text)   \n",
    "    palabras = [token for token in tokens if token not in stoplist]\n",
    "    wnlemmatizer = nltk.stem.wordnet.WordNetLemmatizer()\n",
    "    lemmatize= [wnlemmatizer.lemmatize(palabra) for palabra in palabras]\n",
    "    tags = nltk.pos_tag(lemmatize)\n",
    "    verbos = [verbo for verbo, tag in tags if tag.startswith('VB')]\n",
    "    lemmatize = [wnlemmatizer.lemmatize(verbo,'v') for verbo in verbos]\n",
    "    \n",
    "    return lemmatize"
   ]
  },
  {
   "cell_type": "code",
   "execution_count": 12,
   "id": "6d48fc75",
   "metadata": {},
   "outputs": [],
   "source": [
    "s=Counter(preprocessing_2(oraciones_alice[0])).most_common(10)"
   ]
  },
  {
   "cell_type": "code",
   "execution_count": 13,
   "id": "c38bc999",
   "metadata": {},
   "outputs": [
    {
     "name": "stdout",
     "output_type": "stream",
     "text": [
      "10 Most Important Verbs In Sentences with Alice\n",
      "\n",
      "1. say \n",
      "2. go \n",
      "3. think \n",
      "4. get \n",
      "5. look \n",
      "6. begin \n",
      "7. see \n",
      "8. come \n",
      "9. know \n",
      "10. find \n"
     ]
    }
   ],
   "source": [
    "print(\"10 Most Important Verbs In Sentences with Alice\")\n",
    "print()\n",
    "\n",
    "for i in range(len(s)):\n",
    "    print('{}. {} '.format(i+1, s[i][0]))"
   ]
  },
  {
   "cell_type": "markdown",
   "id": "aeb122cf",
   "metadata": {},
   "source": [
    "Above we can see the top 10 things Alice does most in the whole book."
   ]
  },
  {
   "cell_type": "markdown",
   "id": "3cbd2368",
   "metadata": {},
   "source": [
    "<a name='005'></a>\n",
    "\n",
    "<h2>Conclusions</h2>"
   ]
  },
  {
   "cell_type": "markdown",
   "id": "feb9a0ca",
   "metadata": {},
   "source": [
    "**Natural language processing (NLP)** is of **great importance today** because of its **ability to understand and generate text automatically**. It is **applied** in a **wide range of fields**, from virtual assistants to sentiment analysis and machine translation, making it a **crucial technology** in the **digital age**.\n",
    "\n",
    "On the other hand, **\"Alice in Wonderland\"** is a **classic literary** work written by Lewis Carroll. Its **importance** lies in its ability to **captivate readers** of all ages **with** its **boundless imagination and social satire**. Alice's story  remains relevant and timeless, exploring themes of curiosity, logic and absurdity, making it a significant literary work in the history of literature."
   ]
  }
 ],
 "metadata": {
  "kernelspec": {
   "display_name": "Python 3 (ipykernel)",
   "language": "python",
   "name": "python3"
  },
  "language_info": {
   "codemirror_mode": {
    "name": "ipython",
    "version": 3
   },
   "file_extension": ".py",
   "mimetype": "text/x-python",
   "name": "python",
   "nbconvert_exporter": "python",
   "pygments_lexer": "ipython3",
   "version": "3.11.4"
  }
 },
 "nbformat": 4,
 "nbformat_minor": 5
}
